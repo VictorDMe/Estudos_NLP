{
 "cells": [
  {
   "cell_type": "code",
   "execution_count": 1,
   "id": "e1786273-e0aa-45b9-92a8-1b7ad3c4adaa",
   "metadata": {
    "tags": []
   },
   "outputs": [],
   "source": [
    "import pandas as pd\n",
    "import numpy as np\n",
    "import seaborn as sns\n",
    "import spacy\n",
    "from spacy.lang.pt.stop_words import STOP_WORDS\n",
    "import string\n",
    "import re"
   ]
  },
  {
   "cell_type": "markdown",
   "id": "f91052bf-486d-495c-9995-229969195407",
   "metadata": {
    "tags": []
   },
   "source": [
    "#  Entrada de dados"
   ]
  },
  {
   "cell_type": "code",
   "execution_count": 13,
   "id": "f53060d7-6902-4d9b-9152-3a1ad00bbaa4",
   "metadata": {
    "tags": []
   },
   "outputs": [],
   "source": [
    "df = pd.read_csv('data/TweetsBrasileiros.csv', encoding='utf8')"
   ]
  },
  {
   "cell_type": "markdown",
   "id": "635b9496-2aa0-49fb-97a8-1f0e8b34357b",
   "metadata": {},
   "source": [
    "# Processamento dos dados"
   ]
  },
  {
   "cell_type": "markdown",
   "id": "3f7fc01a-4fd0-41de-8d81-e582a8502660",
   "metadata": {
    "jp-MarkdownHeadingCollapsed": true,
    "tags": []
   },
   "source": [
    "## Limpeza específica para tweets"
   ]
  },
  {
   "cell_type": "code",
   "execution_count": 14,
   "id": "b6572616-a179-4d1a-86c5-e0f12db1240b",
   "metadata": {
    "tags": []
   },
   "outputs": [],
   "source": [
    "df.drop(columns=['id', 'tweet_date'], inplace=True)\n",
    "\n",
    "# Retirando menções do tweet e retirando emoji.\n",
    "df['tweet_text'] = df.apply(lambda x : re.sub(r'@([^\\s]+)', '', x['tweet_text']).replace(x['query_used'], ''), axis=1)\n",
    "df.drop(columns=['query_used'], inplace=True)"
   ]
  },
  {
   "cell_type": "markdown",
   "id": "efa97671-32f1-4345-9efa-de14a3c4a66a",
   "metadata": {},
   "source": [
    "## Limpeza padrão"
   ]
  },
  {
   "cell_type": "code",
   "execution_count": 15,
   "id": "764ad468-7a7d-4874-9295-ae8098fdcaad",
   "metadata": {
    "tags": []
   },
   "outputs": [],
   "source": [
    "punctuation = string.punctuation\n",
    "pln = spacy.load('pt_core_news_sm')"
   ]
  },
  {
   "cell_type": "code",
   "execution_count": 20,
   "id": "e2739211-19a2-4df4-9098-b05d7963aeab",
   "metadata": {
    "tags": []
   },
   "outputs": [],
   "source": [
    "def preprocessamento(tweet:str) -> str:\n",
    "    '''\n",
    "    Aplica o pre-preocessamento padrão no texto, retirando stop-words e caracteres especiais.\n",
    "    '''\n",
    "    documento = pln(tweet.lower())\n",
    "    \n",
    "    # Aplicando lemmatização \n",
    "    lista = [token.lemma_ for token in documento]\n",
    "    \n",
    "    # Retirando stop words e caracteres especiais\n",
    "    lista = [palavra for palavra in lista \n",
    "             if palavra not in STOP_WORDS and \n",
    "             palavra not in punctuation]\n",
    "    \n",
    "    # Retirando números\n",
    "    return ' '.join([palavra for palavra in lista if not palavra.isdigit()])"
   ]
  },
  {
   "cell_type": "code",
   "execution_count": 22,
   "id": "e59d6c08-49c5-45c9-880a-cfc3f0f47578",
   "metadata": {
    "tags": []
   },
   "outputs": [],
   "source": [
    "df['tweet_text'] = df['tweet_text'].apply(preprocessamento)"
   ]
  },
  {
   "cell_type": "code",
   "execution_count": 24,
   "id": "2820675a-37d8-4050-9b33-42d8d1e20461",
   "metadata": {
    "tags": []
   },
   "outputs": [],
   "source": [
    "df.to_csv('temp/checkpoint_preprocessamento.csv')"
   ]
  }
 ],
 "metadata": {
  "kernelspec": {
   "display_name": "estudo_nlp",
   "language": "python",
   "name": "estudo_nlp"
  },
  "language_info": {
   "codemirror_mode": {
    "name": "ipython",
    "version": 3
   },
   "file_extension": ".py",
   "mimetype": "text/x-python",
   "name": "python",
   "nbconvert_exporter": "python",
   "pygments_lexer": "ipython3",
   "version": "3.11.2"
  }
 },
 "nbformat": 4,
 "nbformat_minor": 5
}
